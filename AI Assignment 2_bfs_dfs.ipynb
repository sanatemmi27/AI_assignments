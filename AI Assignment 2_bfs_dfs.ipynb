{
 "cells": [
  {
   "cell_type": "code",
   "execution_count": 97,
   "metadata": {},
   "outputs": [],
   "source": [
    "graph = { \"51\": [\"3\",\"6\"],\n",
    "          \"3\" : [\"9\", \"6\", \"51\"],\n",
    "          \"6\" : [\"57\",\"3\",\"8\", \"51\"],\n",
    "          \"8\" : [\"1\",\"6\",\"9\" ,\"42\"],\n",
    "          \"9\" : [\"3\",\"8\"],\n",
    "          \"42\": [\"8\"],\n",
    "          \"1\" : [\"8\",\"14\"],\n",
    "         \"14\" : [\"1\",\"97\"],\n",
    "         \"97\" : [\"14\"],\n",
    "         \"57\" : [\"6\"]}\n"
   ]
  },
  {
   "cell_type": "code",
   "execution_count": 98,
   "metadata": {},
   "outputs": [
    {
     "name": "stdout",
     "output_type": "stream",
     "text": [
      "['51', '3', '6', '8', '9', '42', '1', '14', '97', '57']\n"
     ]
    },
    {
     "data": {
      "text/plain": [
       "10"
      ]
     },
     "execution_count": 98,
     "metadata": {},
     "output_type": "execute_result"
    }
   ],
   "source": [
    "# Count the number of nodes\n",
    "arr =[]\n",
    "for i in graph:\n",
    "    if i!=\"\":\n",
    "        arr.append(i)\n",
    "print(arr)\n",
    "len(arr)"
   ]
  },
  {
   "cell_type": "code",
   "execution_count": 99,
   "metadata": {},
   "outputs": [
    {
     "name": "stdout",
     "output_type": "stream",
     "text": [
      "True\n"
     ]
    }
   ],
   "source": [
    "# To check if node is Present or not.\n",
    "if \"57\" in arr:\n",
    "    print(\"True\")"
   ]
  },
  {
   "cell_type": "code",
   "execution_count": 100,
   "metadata": {},
   "outputs": [],
   "source": [
    "#BFS\n",
    "# visits all the nodes of a graph (connected component) using BFS\n",
    "def bfs_connected_component(graph, start):\n",
    "    # keep track of all visited nodes\n",
    "    explored = []\n",
    "    # keep track of nodes to be checked\n",
    "    queue = [start]\n",
    " \n",
    "    # keep looping until there are nodes still to be checked\n",
    "    while queue:\n",
    "        # pop shallowest node (first node) from queue\n",
    "        node = queue.pop(0)\n",
    "        if node not in explored:\n",
    "            # add node to list of checked nodes\n",
    "            explored.append(node)\n",
    "            neighbours = graph[node]\n",
    " \n",
    "            # add neighbours of node to queue\n",
    "            for neighbour in neighbours:\n",
    "                queue.append(neighbour)\n",
    "    return explored\n",
    " "
   ]
  },
  {
   "cell_type": "code",
   "execution_count": 101,
   "metadata": {},
   "outputs": [
    {
     "data": {
      "text/plain": [
       "['3', '9', '6', '51', '8', '57', '1', '42', '14', '97']"
      ]
     },
     "execution_count": 101,
     "metadata": {},
     "output_type": "execute_result"
    }
   ],
   "source": [
    "bfs_connected_component(graph,\"3\") "
   ]
  },
  {
   "cell_type": "code",
   "execution_count": 114,
   "metadata": {},
   "outputs": [],
   "source": [
    "graph = { \"51\": set([\"3\",\"6\"]),\n",
    "          \"3\" : set([\"9\", \"6\", \"51\"]),\n",
    "          \"6\" : set([\"57\",\"3\",\"8\", \"51\"]),\n",
    "          \"8\" : set([\"1\",\"6\",\"9\" ,\"42\"]),\n",
    "          \"9\" : set([\"3\",\"8\"]),\n",
    "          \"42\": set([\"8\"]),\n",
    "          \"1\" : set([\"8\",\"14\"]),\n",
    "         \"14\" : set([\"1\",\"97\"]),\n",
    "         \"97\" : set([\"14\"]),\n",
    "         \"57\" : set([\"6\"])}"
   ]
  },
  {
   "cell_type": "code",
   "execution_count": 115,
   "metadata": {},
   "outputs": [],
   "source": [
    "#DFS\n",
    "def depth_first_search(graph, start_node):\n",
    "    visited_neighbours = set() #Keep track of the node we have visited \n",
    "    neighbours = [start_node] \n",
    "    \n",
    "    while (len(neighbours) != 0): #All the elements will be transversed by the time we have this list size as zero\n",
    "        neighbour = neighbours.pop() \n",
    "        if neighbour not in visited_neighbours:\n",
    "            visited_neighbours.add(neighbour)\n",
    "            new_prospected_neighbours = graph[neighbour]\n",
    "            #Need to remove neighbours which are already visted\n",
    "            new_neighbours = new_prospected_neighbours - visited_neighbours \n",
    "            neighbours.extend(new_neighbours)\n",
    "    return visited_neighbours        \n",
    "            \n",
    "    \n"
   ]
  },
  {
   "cell_type": "code",
   "execution_count": 116,
   "metadata": {},
   "outputs": [
    {
     "data": {
      "text/plain": [
       "{'1', '14', '3', '42', '51', '57', '6', '8', '9', '97'}"
      ]
     },
     "execution_count": 116,
     "metadata": {},
     "output_type": "execute_result"
    }
   ],
   "source": [
    "#  \n",
    "depth_first_search(graph,'1') "
   ]
  },
  {
   "cell_type": "code",
   "execution_count": null,
   "metadata": {},
   "outputs": [],
   "source": []
  }
 ],
 "metadata": {
  "kernelspec": {
   "display_name": "Python 3",
   "language": "python",
   "name": "python3"
  },
  "language_info": {
   "codemirror_mode": {
    "name": "ipython",
    "version": 3
   },
   "file_extension": ".py",
   "mimetype": "text/x-python",
   "name": "python",
   "nbconvert_exporter": "python",
   "pygments_lexer": "ipython3",
   "version": "3.7.3"
  }
 },
 "nbformat": 4,
 "nbformat_minor": 2
}
