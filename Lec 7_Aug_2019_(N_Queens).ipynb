{
 "cells": [
  {
   "cell_type": "code",
   "execution_count": 1,
   "metadata": {},
   "outputs": [],
   "source": [
    "import pandas as pd"
   ]
  },
  {
   "cell_type": "code",
   "execution_count": 19,
   "metadata": {},
   "outputs": [],
   "source": [
    "adj_mat = [\n",
    "    [\"0\",\"1\",\"2\",\"3\",\"4\"],\n",
    "    [\"1\", 0 , 0 , 0 , 0],\n",
    "    [\"2\", 0 , 0 , 0 , 0],\n",
    "    [\"3\", 0 , 0 , 0 , 0],\n",
    "    [\"4\", 0 , 0 , 0 , 0]\n",
    "]"
   ]
  },
  {
   "cell_type": "code",
   "execution_count": 20,
   "metadata": {},
   "outputs": [
    {
     "data": {
      "text/plain": [
       "[['0', '1', '2', '3', '4'],\n",
       " ['1', 0, 0, 0, 0],\n",
       " ['2', 0, 0, 0, 0],\n",
       " ['3', 0, 0, 0, 0],\n",
       " ['4', 0, 0, 0, 0]]"
      ]
     },
     "execution_count": 20,
     "metadata": {},
     "output_type": "execute_result"
    }
   ],
   "source": [
    "adj_mat"
   ]
  },
  {
   "cell_type": "code",
   "execution_count": 14,
   "metadata": {},
   "outputs": [
    {
     "data": {
      "text/plain": [
       "5"
      ]
     },
     "execution_count": 14,
     "metadata": {},
     "output_type": "execute_result"
    }
   ],
   "source": [
    "len(adj_mat)"
   ]
  },
  {
   "cell_type": "code",
   "execution_count": 17,
   "metadata": {},
   "outputs": [],
   "source": [
    "# update\n",
    "adj_mat[3]= [3,0,0,0]"
   ]
  },
  {
   "cell_type": "code",
   "execution_count": 18,
   "metadata": {},
   "outputs": [
    {
     "data": {
      "text/plain": [
       "[['0', '1', '2', '3', '4'],\n",
       " ['1', 0, 0, 0, 0],\n",
       " ['2', 0, 0, 0, 0],\n",
       " [3, 0, 0, 0],\n",
       " ['4', 0, 0, 0, 0]]"
      ]
     },
     "execution_count": 18,
     "metadata": {},
     "output_type": "execute_result"
    }
   ],
   "source": [
    "adj_mat"
   ]
  },
  {
   "cell_type": "code",
   "execution_count": 39,
   "metadata": {},
   "outputs": [
    {
     "name": "stdout",
     "output_type": "stream",
     "text": [
      "a []\n",
      "b []\n",
      "c []\n",
      "--------------- 0\n",
      "========== 0\n",
      "a [0]\n",
      "b [0]\n",
      "c [0]\n",
      "--------------- 1\n",
      "========== 2\n",
      "a [0]\n",
      "b [0]\n",
      "c [0]\n",
      "--------------- 1\n",
      "========== 3\n",
      "a [0, 3]\n",
      "b [0, 4]\n",
      "c [0, -2]\n",
      "--------------- 2\n",
      "========== 1\n",
      "a []\n",
      "b []\n",
      "c []\n",
      "--------------- 0\n",
      "========== 1\n",
      "a [1]\n",
      "b [1]\n",
      "c [-1]\n",
      "--------------- 1\n",
      "========== 3\n",
      "a [1, 3]\n",
      "b [1, 4]\n",
      "c [-1, -2]\n",
      "--------------- 2\n",
      "========== 0\n",
      "a [1, 3, 0]\n",
      "b [1, 4, 2]\n",
      "c [-1, -2, 2]\n",
      "--------------- 3\n",
      "========== 2\n",
      "[1, 3, 0, 2]\n",
      "a []\n",
      "b []\n",
      "c []\n",
      "--------------- 0\n",
      "========== 2\n",
      "a [2]\n",
      "b [2]\n",
      "c [-2]\n",
      "--------------- 1\n",
      "========== 0\n",
      "a [2, 0]\n",
      "b [2, 1]\n",
      "c [-2, 1]\n",
      "--------------- 2\n",
      "========== 3\n",
      "a [2, 0, 3]\n",
      "b [2, 1, 5]\n",
      "c [-2, 1, -1]\n",
      "--------------- 3\n",
      "========== 1\n",
      "[2, 0, 3, 1]\n",
      "a []\n",
      "b []\n",
      "c []\n",
      "--------------- 0\n",
      "========== 3\n",
      "a [3]\n",
      "b [3]\n",
      "c [-3]\n",
      "--------------- 1\n",
      "========== 0\n",
      "a [3, 0]\n",
      "b [3, 1]\n",
      "c [-3, 1]\n",
      "--------------- 2\n",
      "========== 2\n",
      "a [3]\n",
      "b [3]\n",
      "c [-3]\n",
      "--------------- 1\n",
      "========== 1\n"
     ]
    }
   ],
   "source": [
    "# n: dynamic n input queen\n",
    "# i\n",
    "# a \n",
    "# b \n",
    "\n",
    "\n",
    "def solve(n, i, a, b, c):\n",
    "    if i < n:\n",
    "        for j in range(n):\n",
    "            if j not in a and i+j not in b and i-j not in c:\n",
    "                print(\"a\",a)\n",
    "                print(\"b\",b)\n",
    "                print(\"c\",c)\n",
    "                print(\"---------------\",i)\n",
    "                print(\"==========\",j)\n",
    "                for solution in solve(n, i+1, a+[j], b+[i+j], c+[i-j]):\n",
    "                    yield solution\n",
    "    else:\n",
    "        yield a\n",
    " \n",
    "for solution in solve(4, 0, [], [], []):\n",
    "    print(solution)"
   ]
  },
  {
   "cell_type": "code",
   "execution_count": null,
   "metadata": {},
   "outputs": [],
   "source": []
  }
 ],
 "metadata": {
  "kernelspec": {
   "display_name": "Python 3",
   "language": "python",
   "name": "python3"
  },
  "language_info": {
   "codemirror_mode": {
    "name": "ipython",
    "version": 3
   },
   "file_extension": ".py",
   "mimetype": "text/x-python",
   "name": "python",
   "nbconvert_exporter": "python",
   "pygments_lexer": "ipython3",
   "version": "3.7.3"
  }
 },
 "nbformat": 4,
 "nbformat_minor": 2
}
